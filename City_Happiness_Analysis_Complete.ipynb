{
 "cells": [
  {
   "cell_type": "markdown",
   "id": "3fc5ba8e",
   "metadata": {},
   "source": [
    "# City Happiness Index - Composite Indicator Project"
   ]
  },
  {
   "cell_type": "code",
   "execution_count": null,
   "id": "434e3d47",
   "metadata": {},
   "outputs": [],
   "source": [
    "import pandas as pd\n",
    "\n",
    "# Corrected file path with raw string\n",
    "df = pd.read_csv(r\"Expanded_Happiness_Index_Data.csv\")\n",
    "df.head()\n"
   ]
  },
  {
   "cell_type": "markdown",
   "id": "1b9a347e",
   "metadata": {},
   "source": [
    "## Step 1: Data Cleaning and Imputation"
   ]
  },
  {
   "cell_type": "code",
   "execution_count": null,
   "id": "bc9f5efb",
   "metadata": {},
   "outputs": [],
   "source": [
    "\n",
    "# Check for missing values\n",
    "df.isnull().sum()\n"
   ]
  },
  {
   "cell_type": "markdown",
   "id": "5daddc46",
   "metadata": {},
   "source": [
    "## Step 2: Multivariate Analysis"
   ]
  },
  {
   "cell_type": "code",
   "execution_count": null,
   "id": "f5ee094b",
   "metadata": {},
   "outputs": [],
   "source": [
    "\n",
    "import seaborn as sns\n",
    "import matplotlib.pyplot as plt\n",
    "\n",
    "# Correlation matrix\n",
    "plt.figure(figsize=(10, 6))\n",
    "sns.heatmap(df.corr(numeric_only=True), annot=True, cmap='coolwarm')\n",
    "plt.title(\"Correlation Matrix of Numeric Features\")\n",
    "plt.show()\n"
   ]
  },
  {
   "cell_type": "markdown",
   "id": "58f4abf9",
   "metadata": {},
   "source": [
    "\n",
    "## Step 7: Link to Existing Indices\n",
    "\n",
    "To provide context and benchmark our custom Composite Happiness Index (CHI), we can compare it qualitatively with several globally recognized indices:\n",
    "\n",
    "### 1. [UN Human Development Index (HDI)](http://hdr.undp.org/en/statistics/hdi/)\n",
    "- Measures life expectancy, education level, and standard of living.\n",
    "- Similar to our CHI, it reflects multidimensional well-being but on a national scale.\n",
    "- Unlike HDI, our CHI adds urban environment metrics like **green space**, **air quality**, and **traffic density**, focusing specifically on **city-level quality of life**.\n",
    "\n",
    "### 2. [Siemens Green City Index](https://assets.new.siemens.com/siemens/assets/api/uuid:fddc99e7-5907-49aa-92c4-610c0801659e/european-green-city-index.pdf)\n",
    "- Assesses cities on sustainability: CO₂ emissions, energy use, buildings, and transport.\n",
    "- Our **Environmental_Quality_Index** is inspired by this but includes **noise levels** and **AQI**, creating a more health-oriented indicator.\n",
    "\n",
    "### 3. World Happiness Report\n",
    "- Uses survey-based life evaluations and combines GDP, social support, healthy life expectancy, freedom, trust, and generosity.\n",
    "- Our index replaces survey-based measures with **objective city data**, focusing on measurable urban attributes that influence well-being.\n",
    "\n",
    "### Key Differences:\n",
    "- Our CHI is designed to be **reproducible and data-driven**, using public urban indicators.\n",
    "- It emphasizes **environmental and infrastructural quality**, which are often overlooked in national happiness scores.\n",
    "\n",
    "These comparisons help validate the scope and relevance of our Composite Happiness Index in the global context.\n"
   ]
  },
  {
   "cell_type": "markdown",
   "id": "d828f7c8",
   "metadata": {},
   "source": [
    "## Step 3: Normalisation"
   ]
  },
  {
   "cell_type": "code",
   "execution_count": null,
   "id": "ef032106",
   "metadata": {},
   "outputs": [],
   "source": [
    "\n",
    "from sklearn.preprocessing import MinMaxScaler\n",
    "\n",
    "scaler = MinMaxScaler()\n",
    "normalized_cols = ['Air_Quality_Index', 'Decibel_Level', 'Green_Space_Area', 'Cost_of_Living_Index', 'Healthcare_Index']\n",
    "df[[col + '_Norm' for col in normalized_cols]] = scaler.fit_transform(df[normalized_cols])\n",
    "df.head()\n"
   ]
  },
  {
   "cell_type": "markdown",
   "id": "5f2ddca3",
   "metadata": {},
   "source": [
    "## Step 4: Weighting and Aggregation"
   ]
  },
  {
   "cell_type": "code",
   "execution_count": null,
   "id": "9505387e",
   "metadata": {},
   "outputs": [],
   "source": [
    "\n",
    "# Use provided sub-indices and create final composite index\n",
    "df['Composite_Happiness_Index'] = (\n",
    "    0.4 * df['Environmental_Quality_Index'] +\n",
    "    0.35 * df['Health_Wellness_Index'] +\n",
    "    0.25 * df['Mobility_Comfort_Index']\n",
    ")\n",
    "df[['City', 'Composite_Happiness_Index']].sort_values(by='Composite_Happiness_Index', ascending=False).head(10)\n"
   ]
  },
  {
   "cell_type": "markdown",
   "id": "6d3be44f",
   "metadata": {},
   "source": [
    "## Step 5: Cluster Analysis"
   ]
  },
  {
   "cell_type": "code",
   "execution_count": null,
   "id": "465db873",
   "metadata": {},
   "outputs": [],
   "source": [
    "\n",
    "from sklearn.cluster import KMeans\n",
    "\n",
    "features = ['Environmental_Quality_Index', 'Health_Wellness_Index', 'Mobility_Comfort_Index']\n",
    "kmeans = KMeans(n_clusters=3, random_state=42)\n",
    "df['Cluster'] = kmeans.fit_predict(df[features])\n",
    "\n",
    "# Visualize clusters\n",
    "sns.scatterplot(data=df, x='Environmental_Quality_Index', y='Health_Wellness_Index', hue='Cluster', palette='Set2')\n",
    "plt.title(\"City Clusters Based on Sub-Indices\")\n",
    "plt.show()\n"
   ]
  },
  {
   "cell_type": "markdown",
   "id": "7c56d9dc",
   "metadata": {},
   "source": [
    "## Step 6: Visualisation of Composite Index"
   ]
  },
  {
   "cell_type": "code",
   "execution_count": null,
   "id": "13d30720",
   "metadata": {},
   "outputs": [],
   "source": [
    "\n",
    "# Bar plot of top 10 happiest cities\n",
    "top_cities = df.sort_values(by='Composite_Happiness_Index', ascending=False).head(10)\n",
    "plt.figure(figsize=(12, 6))\n",
    "sns.barplot(data=top_cities, x='City', y='Composite_Happiness_Index', palette='viridis')\n",
    "plt.title(\"Top 10 Happiest Cities (Composite Index)\")\n",
    "plt.xticks(rotation=45)\n",
    "plt.show()\n"
   ]
  },
  {
   "cell_type": "markdown",
   "id": "7763436d",
   "metadata": {},
   "source": [
    "## Step 7: Link to Existing Indices"
   ]
  },
  {
   "cell_type": "markdown",
   "id": "c3b2cee1",
   "metadata": {},
   "source": [
    "\n",
    "Refer to external indices like:\n",
    "- [UN Human Development Index](http://hdr.undp.org/en/statistics/hdi/)\n",
    "- [Siemens Green City Index](https://assets.new.siemens.com/siemens/assets/api/uuid:fddc99e7-5907-49aa-92c4-610c0801659e/european-green-city-index.pdf)\n",
    "\n",
    "Discuss similarities and differences qualitatively in your report.\n"
   ]
  },
  {
   "cell_type": "markdown",
   "id": "ef3a7c8d",
   "metadata": {},
   "source": [
    "## Step 8: Distribution of Sub-Indices"
   ]
  },
  {
   "cell_type": "code",
   "execution_count": null,
   "id": "6d7cf2aa",
   "metadata": {},
   "outputs": [],
   "source": [
    "\n",
    "import matplotlib.pyplot as plt\n",
    "import seaborn as sns\n",
    "\n",
    "# Plot distribution of each sub-index\n",
    "sub_indices = ['Environmental_Quality_Index', 'Health_Wellness_Index', 'Mobility_Comfort_Index']\n",
    "for col in sub_indices:\n",
    "    plt.figure(figsize=(8, 4))\n",
    "    sns.histplot(df[col], kde=True, bins=10)\n",
    "    plt.title(f'Distribution of {col}')\n",
    "    plt.xlabel(col)\n",
    "    plt.ylabel('Frequency')\n",
    "    plt.show()\n"
   ]
  },
  {
   "cell_type": "markdown",
   "id": "dd4c7b77",
   "metadata": {},
   "source": [
    "## Step 9: Composite Index by Region (if Region Column Available)"
   ]
  },
  {
   "cell_type": "code",
   "execution_count": null,
   "id": "9dc9e1c8",
   "metadata": {},
   "outputs": [],
   "source": [
    "\n",
    "if 'Region' in df.columns:\n",
    "    region_avg = df.groupby('Region')['Composite_Happiness_Index'].mean().sort_values(ascending=False)\n",
    "    region_avg.plot(kind='bar', figsize=(10, 6), title='Average Composite Index by Region')\n",
    "    plt.ylabel('Composite Happiness Index')\n",
    "    plt.show()\n",
    "else:\n",
    "    print(\"Region column not available in dataset.\")\n"
   ]
  },
  {
   "cell_type": "markdown",
   "id": "906f396f",
   "metadata": {},
   "source": [
    "## Step 10: Pairplot for Sub-Indices"
   ]
  },
  {
   "cell_type": "code",
   "execution_count": null,
   "id": "d3c216b8",
   "metadata": {},
   "outputs": [],
   "source": [
    "\n",
    "# Pairplot for visual relationship\n",
    "sns.pairplot(df[['Environmental_Quality_Index', 'Health_Wellness_Index', 'Mobility_Comfort_Index', 'Composite_Happiness_Index']], diag_kind='kde')\n",
    "plt.suptitle('Pairplot of Sub-Indices and Composite Index', y=1.02)\n",
    "plt.show()\n"
   ]
  },
  {
   "cell_type": "markdown",
   "id": "06e97800",
   "metadata": {},
   "source": [
    "## Step 11: Save Cleaned and Processed Dataset"
   ]
  },
  {
   "cell_type": "code",
   "execution_count": null,
   "id": "1b6621b8",
   "metadata": {},
   "outputs": [],
   "source": [
    "import os\n",
    "output_dir = 'output'\n",
    "os.makedirs(output_dir, exist_ok=True)\n",
    "df.to_csv(os.path.join(output_dir, 'Final_Happiness_Index_Data_Processed.csv'), index=False)\n",
    "print('Dataset saved to output/Final_Happiness_Index_Data_Processed.csv')"
   ]
  },
  {
   "cell_type": "markdown",
   "id": "ae9d9dec",
   "metadata": {},
   "source": [
    "## Step 12: Composite Index Over Time for Selected Cities"
   ]
  },
  {
   "cell_type": "code",
   "execution_count": null,
   "id": "c7b8ae39",
   "metadata": {},
   "outputs": [],
   "source": [
    "\n",
    "# Line plot of Composite Index over time for a few cities\n",
    "selected_cities = ['Berlin', 'Tokyo', 'New York', 'Paris']\n",
    "df['Date'] = pd.to_datetime(df['Month'] + ' ' + df['Year'].astype(str))\n",
    "plt.figure(figsize=(12, 6))\n",
    "for city in selected_cities:\n",
    "    city_data = df[df['City'] == city]\n",
    "    plt.plot(city_data['Date'], city_data['Composite_Happiness_Index'], label=city)\n",
    "\n",
    "plt.title(\"Composite Happiness Index Over Time (Selected Cities)\")\n",
    "plt.xlabel(\"Month\")\n",
    "plt.ylabel(\"Composite Happiness Index\")\n",
    "plt.legend()\n",
    "plt.grid(True)\n",
    "plt.tight_layout()\n",
    "plt.show()\n"
   ]
  },
  {
   "cell_type": "markdown",
   "id": "5fefef8e",
   "metadata": {},
   "source": [
    "## Step 13: Heatmap of City vs Month (Composite Index)"
   ]
  },
  {
   "cell_type": "code",
   "execution_count": null,
   "id": "dae307c4",
   "metadata": {},
   "outputs": [],
   "source": [
    "\n",
    "# Pivot table and heatmap\n",
    "pivot = df.pivot_table(index='City', columns='Month', values='Composite_Happiness_Index')\n",
    "plt.figure(figsize=(14, 18))\n",
    "sns.heatmap(pivot, cmap='YlGnBu', annot=False)\n",
    "plt.title(\"Heatmap of Composite Index by City and Month\")\n",
    "plt.xlabel(\"Month\")\n",
    "plt.ylabel(\"City\")\n",
    "plt.show()\n"
   ]
  },
  {
   "cell_type": "markdown",
   "id": "e3ce393b",
   "metadata": {},
   "source": [
    "## Step 14: Boxplot Comparison of Sub-Indices"
   ]
  },
  {
   "cell_type": "code",
   "execution_count": null,
   "id": "961a7b54",
   "metadata": {},
   "outputs": [],
   "source": [
    "\n",
    "plt.figure(figsize=(12, 6))\n",
    "sns.boxplot(data=df[['Environmental_Quality_Index', 'Health_Wellness_Index', 'Mobility_Comfort_Index']])\n",
    "plt.title(\"Boxplot Comparison of Sub-Indices\")\n",
    "plt.ylabel(\"Index Value\")\n",
    "plt.grid(True)\n",
    "plt.show()\n"
   ]
  },
  {
   "cell_type": "markdown",
   "id": "7dc0a7f3",
   "metadata": {},
   "source": [
    "## Step 15: Scatterplot of Composite Index vs Air Quality"
   ]
  },
  {
   "cell_type": "code",
   "execution_count": null,
   "id": "989ea4ff",
   "metadata": {},
   "outputs": [],
   "source": [
    "\n",
    "plt.figure(figsize=(8, 6))\n",
    "sns.scatterplot(data=df, x='Air_Quality_Index', y='Composite_Happiness_Index', hue='City', legend=False)\n",
    "plt.title(\"Composite Happiness Index vs Air Quality Index\")\n",
    "plt.xlabel(\"Air Quality Index (Lower is Better)\")\n",
    "plt.ylabel(\"Composite Happiness Index\")\n",
    "plt.grid(True)\n",
    "plt.show()\n"
   ]
  },
  {
   "cell_type": "markdown",
   "id": "d30dbfbe",
   "metadata": {},
   "source": [
    "## Step 16: Comparison of Top and Bottom Cities by Composite Index"
   ]
  },
  {
   "cell_type": "code",
   "execution_count": null,
   "id": "48339e26",
   "metadata": {},
   "outputs": [],
   "source": [
    "\n",
    "# Top 10 cities\n",
    "top_10 = df.groupby('City')['Composite_Happiness_Index'].mean().sort_values(ascending=False).head(10)\n",
    "\n",
    "# Bottom 10 cities\n",
    "bottom_10 = df.groupby('City')['Composite_Happiness_Index'].mean().sort_values().head(10)\n",
    "\n",
    "# Plot side by side\n",
    "fig, axes = plt.subplots(1, 2, figsize=(18, 6), sharey=True)\n",
    "\n",
    "sns.barplot(x=top_10.values, y=top_10.index, ax=axes[0], palette='Greens_r')\n",
    "axes[0].set_title(\"Top 10 Cities by Average Composite Happiness Index\")\n",
    "axes[0].set_xlabel(\"Composite Happiness Index\")\n",
    "\n",
    "sns.barplot(x=bottom_10.values, y=bottom_10.index, ax=axes[1], palette='Reds_r')\n",
    "axes[1].set_title(\"Bottom 10 Cities by Average Composite Happiness Index\")\n",
    "axes[1].set_xlabel(\"Composite Happiness Index\")\n",
    "\n",
    "plt.tight_layout()\n",
    "plt.show()\n"
   ]
  },
  {
   "cell_type": "markdown",
   "id": "d5d615ac",
   "metadata": {},
   "source": [
    "## Step 17: Correlation of Sub-Indices with Composite Index"
   ]
  },
  {
   "cell_type": "code",
   "execution_count": null,
   "id": "2acbab68",
   "metadata": {},
   "outputs": [],
   "source": [
    "\n",
    "correlation = df[[\n",
    "    'Environmental_Quality_Index', \n",
    "    'Health_Wellness_Index', \n",
    "    'Mobility_Comfort_Index', \n",
    "    'Composite_Happiness_Index'\n",
    "]].corr()\n",
    "\n",
    "plt.figure(figsize=(8, 6))\n",
    "sns.heatmap(correlation, annot=True, cmap='coolwarm')\n",
    "plt.title(\"Correlation of Sub-Indices with Composite Index\")\n",
    "plt.show()\n"
   ]
  },
  {
   "cell_type": "markdown",
   "id": "9e81a692",
   "metadata": {},
   "source": [
    "## Step 18: Average Sub-Indices for Top vs Bottom Cities"
   ]
  },
  {
   "cell_type": "code",
   "execution_count": null,
   "id": "a0cab970",
   "metadata": {},
   "outputs": [],
   "source": [
    "\n",
    "# Select top and bottom cities\n",
    "top_cities = top_10.index.tolist()\n",
    "bottom_cities = bottom_10.index.tolist()\n",
    "\n",
    "# Compute average sub-indices\n",
    "avg_top = df[df['City'].isin(top_cities)][['Environmental_Quality_Index', 'Health_Wellness_Index', 'Mobility_Comfort_Index']].mean()\n",
    "avg_bottom = df[df['City'].isin(bottom_cities)][['Environmental_Quality_Index', 'Health_Wellness_Index', 'Mobility_Comfort_Index']].mean()\n",
    "\n",
    "# Combine into one DataFrame\n",
    "comparison_df = pd.DataFrame({'Top Cities': avg_top, 'Bottom Cities': avg_bottom})\n",
    "comparison_df.plot(kind='bar', figsize=(10, 6), title='Average Sub-Indices: Top vs Bottom Cities')\n",
    "plt.ylabel(\"Average Index Value\")\n",
    "plt.grid(True)\n",
    "plt.tight_layout()\n",
    "plt.show()\n"
   ]
  }
 ],
 "metadata": {
  "kernelspec": {
   "display_name": "Python 3",
   "language": "python",
   "name": "python3"
  },
  "language_info": {
   "codemirror_mode": {
    "name": "ipython",
    "version": 3
   },
   "file_extension": ".py",
   "mimetype": "text/x-python",
   "name": "python",
   "nbconvert_exporter": "python",
   "pygments_lexer": "ipython3",
   "version": "3.13.3"
  }
 },
 "nbformat": 4,
 "nbformat_minor": 5
}
